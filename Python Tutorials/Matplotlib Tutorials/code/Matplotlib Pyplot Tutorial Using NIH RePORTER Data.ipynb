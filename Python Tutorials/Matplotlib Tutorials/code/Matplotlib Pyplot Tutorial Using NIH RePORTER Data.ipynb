{
 "cells": [
  {
   "cell_type": "markdown",
   "id": "dcaf83e7",
   "metadata": {},
   "source": [
    "# Understanding PyPlot, Matplotlib's Implicit Interface\n",
    "__________________________________________________\n",
    "\n",
    "## About:\n",
    "\n",
    "This tutorial provides an overview of using Matplotlib's implicit plotting interface, PyPlot. It is not intended as a data visualization tutorial. \n",
    "\n",
    "This tutorial was developed by Margaret Gratian and is adapted from Matplotlib's official documentation: https://matplotlib.org/stable/tutorials/introductory/pyplot.html#sphx-glr-tutorials-introductory-pyplot-py. It illustrates how Matplotlib's implicit plotting interface can be used with public award data from NIH RePORTER. The goal will be to plot unique counts of NCI application IDs and base projects each fiscal year.\n",
    "\n",
    "## Inputs:\n",
    "- Input Filepath 1: \"../data/public_nih_reporter_data.csv\"\n",
    "    - Public NCI R01 awards in FY 2022 - 2024 from NIH RePORTER. Data is as of 3/13/2025. "
   ]
  },
  {
   "cell_type": "markdown",
   "id": "4c7c1a3b",
   "metadata": {},
   "source": [
    "## Import Packages "
   ]
  },
  {
   "cell_type": "code",
   "execution_count": null,
   "id": "bff5a807",
   "metadata": {},
   "outputs": [],
   "source": [
    "import pandas as pd\n",
    "import matplotlib.pyplot as plt\n",
    "import numpy as np"
   ]
  },
  {
   "cell_type": "markdown",
   "id": "5ac92796",
   "metadata": {},
   "source": [
    "## Read in Data "
   ]
  },
  {
   "cell_type": "code",
   "execution_count": null,
   "id": "971db6e2",
   "metadata": {},
   "outputs": [],
   "source": [
    "raw_reporter_df = pd.read_csv(\"../data/public_nih_reporter_data.csv\", skiprows=1, index_col=0)\n",
    "\n",
    "# See the shape\n",
    "print(raw_reporter_df.shape)\n",
    "\n",
    "# Preview the data\n",
    "raw_reporter_df.head()"
   ]
  },
  {
   "cell_type": "markdown",
   "id": "b3a96b04",
   "metadata": {},
   "source": [
    "## Dataset Development"
   ]
  },
  {
   "cell_type": "markdown",
   "id": "fd96a8b6-a3e1-47ab-a63a-fe1bf8ebc36d",
   "metadata": {},
   "source": [
    "### Prep Data for Analysis"
   ]
  },
  {
   "cell_type": "code",
   "execution_count": null,
   "id": "67621cd3",
   "metadata": {},
   "outputs": [],
   "source": [
    "# Check for duplicates and drop any\n",
    "# Note we make a copy and do not modify our original input data\n",
    "reporter_df = raw_reporter_df.copy().drop_duplicates()\n",
    "\n",
    "reporter_df.shape"
   ]
  },
  {
   "cell_type": "code",
   "execution_count": null,
   "id": "f78d724a",
   "metadata": {},
   "outputs": [],
   "source": [
    "# Check if the data is unique for Appl Id, a unique identifier in the NIH data\n",
    "# This should match the shape\n",
    "reporter_df[\"appl_id\"].nunique()"
   ]
  },
  {
   "cell_type": "markdown",
   "id": "2e75908e-52e5-46c8-bca7-36e8bc074ca7",
   "metadata": {},
   "source": [
    "### Group Data for Plotting"
   ]
  },
  {
   "cell_type": "code",
   "execution_count": null,
   "id": "84fb1edf",
   "metadata": {},
   "outputs": [],
   "source": [
    "# Group by fiscal year and count unique appl ids and unique project serial numbers (also known as base project numbers in the NIH data)\n",
    "grouped_df = reporter_df.groupby([\"fiscal_year\"], as_index=False).agg({\"appl_id\":  \"nunique\", \"project_serial_num\":  \"nunique\"})\n",
    "\n",
    "# Reset column names\n",
    "grouped_df.columns = [\"fiscal_year\", \"appl_id_count\", \"project_serial_num_count\"]"
   ]
  },
  {
   "cell_type": "code",
   "execution_count": null,
   "id": "78b03c33",
   "metadata": {},
   "outputs": [],
   "source": [
    "grouped_df.head()"
   ]
  },
  {
   "cell_type": "markdown",
   "id": "1d9565fd-1245-427d-8282-1c7fa50d46c5",
   "metadata": {},
   "source": [
    "## Analyze and Extract Insights from Data"
   ]
  },
  {
   "cell_type": "markdown",
   "id": "928c87cf",
   "metadata": {},
   "source": [
    "### Plot Unique Appl IDs"
   ]
  },
  {
   "cell_type": "code",
   "execution_count": null,
   "id": "893934b2",
   "metadata": {
    "scrolled": true
   },
   "outputs": [],
   "source": [
    "# Plot the data\n",
    "\n",
    "plt.plot(\"fiscal_year\", \"appl_id_count\", data=grouped_df[[\"fiscal_year\", \"appl_id_count\"]])\n",
    "\n",
    "# Show the plot\n",
    "plt.show()"
   ]
  },
  {
   "cell_type": "code",
   "execution_count": null,
   "id": "80ae88e7",
   "metadata": {},
   "outputs": [],
   "source": [
    "# Plot again, this time adding some labels \n",
    "plt.plot(\"fiscal_year\", \"appl_id_count\", data=grouped_df[[\"fiscal_year\", \"appl_id_count\"]])\n",
    "\n",
    "# Add the x and y labels\n",
    "plt.ylabel('Number of Applications')\n",
    "plt.xlabel('Fiscal Year')\n",
    "\n",
    "# Add a title\n",
    "plt.title('NCI R01 Applications per Fiscal Year, 2022-2024')\n",
    "\n",
    "# Show the plot again\n",
    "plt.show()"
   ]
  },
  {
   "cell_type": "code",
   "execution_count": null,
   "id": "941b2736",
   "metadata": {},
   "outputs": [],
   "source": [
    "# Plot again, this time changing the color\n",
    "\n",
    "# A third optional argument is now added, specifying the color, red ('r')\n",
    "plt.plot(\"fiscal_year\", \"appl_id_count\", 'r', data=grouped_df[[\"fiscal_year\", \"appl_id_count\"]])\n",
    "\n",
    "# Add the x and y labels\n",
    "plt.ylabel('Number of Applications')\n",
    "plt.xlabel('Fiscal Year')\n",
    "\n",
    "# Add a title\n",
    "plt.title('NCI R01 Applications per Fiscal Year, 2022-2024')\n",
    "\n",
    "# Show the plot again\n",
    "plt.show()"
   ]
  },
  {
   "cell_type": "code",
   "execution_count": null,
   "id": "3de4fe84",
   "metadata": {},
   "outputs": [],
   "source": [
    "# Plot again, this time formatting the axis\n",
    "plt.plot(\"fiscal_year\", \"appl_id_count\", 'r', data=grouped_df[[\"fiscal_year\", \"appl_id_count\"]])\n",
    "\n",
    "# Add the x and y labels\n",
    "plt.ylabel('Number of Applications')\n",
    "plt.xlabel('Fiscal Year')\n",
    "\n",
    "# Add a title\n",
    "plt.title('NCI R01 Applications per Fiscal Year, 2022-2024')\n",
    "\n",
    "# Adjust the y axis - we should start at 0 \n",
    "plt.ylim(0, 5000)\n",
    "\n",
    "# Adjust the x tick marks \n",
    "# Here, we are passing a list of numbers using np.arange, indicating the start of the list (inclusive), \n",
    "# end of the list (non inclusive), and step size\n",
    "# This is equivalent as plt.xticks([2022, 2023, 2024])\n",
    "\n",
    "plt.xticks(np.arange(2022, 2025, 1))\n",
    "\n",
    "# Show the plot again\n",
    "plt.show()"
   ]
  },
  {
   "cell_type": "code",
   "execution_count": null,
   "id": "ab2a47b9",
   "metadata": {},
   "outputs": [],
   "source": [
    "# Now, let's adjust the figure size and the font sizes\n",
    "\n",
    "# Setting the figure size MUST happen first! \n",
    "# figsize=(x, y) (x controls width, y controls the height)\n",
    "plt.figure(figsize=(15, 7))\n",
    "\n",
    "# Plot again, this time formatting the axis\n",
    "plt.plot(\"fiscal_year\", \"appl_id_count\", 'r', data=grouped_df[[\"fiscal_year\", \"appl_id_count\"]])\n",
    "\n",
    "# Add the x and y labels\n",
    "plt.ylabel('Number of Applications', size=15)\n",
    "plt.xlabel('Fiscal Year', size=15)\n",
    "\n",
    "# Add a title\n",
    "plt.title('NCI R01 Applications per Fiscal Year, 2022-2024')\n",
    "\n",
    "# Adjust the y axis\n",
    "plt.ylim(0, 5000)\n",
    "plt.yticks(fontsize=13)\n",
    "\n",
    "# Adjust the x axis\n",
    "plt.xticks(np.arange(2022, 2025, 1))\n",
    "\n",
    "# Show the plot again\n",
    "plt.show()"
   ]
  },
  {
   "cell_type": "markdown",
   "id": "ae2d3447",
   "metadata": {},
   "source": [
    "### Plot Unique Appl Ids and Base Project Numbers on One Plot"
   ]
  },
  {
   "cell_type": "code",
   "execution_count": null,
   "id": "d0f176c0",
   "metadata": {},
   "outputs": [],
   "source": [
    "# Setting the figure size MUST happen first! \n",
    "# figsize=(x, y) (x controls width, y controls the height)\n",
    "plt.figure(figsize=(15, 7))\n",
    "\n",
    "# Plotting on the same axes\n",
    "plt.plot('fiscal_year', 'appl_id_count', 'r', data=grouped_df)\n",
    "plt.plot('fiscal_year', 'project_serial_num_count', 'b', data=grouped_df)\n",
    "\n",
    "# Add the x and y labels\n",
    "plt.ylabel('Count', size=15)\n",
    "plt.xlabel('Fiscal Year', size=15)\n",
    "\n",
    "# Add a title\n",
    "plt.title('NCI R01 Applications per Fiscal Year, 2022-2024', size=20)\n",
    "\n",
    "# Adjust the x tick marks and add fontsize and a rotation\n",
    "plt.xticks(np.arange(2022, 2025, 1), fontsize=13, rotation=45)\n",
    "\n",
    "# Adjust the y axis\n",
    "plt.ylim(0, 5000)\n",
    "plt.yticks(fontsize=13)\n",
    "\n",
    "# Add a legend and specify where we want it \n",
    "# Options here are: 'best', 'upper right', 'upper left', 'lower left', 'lower right', \n",
    "# 'right', 'center left', 'center right', 'lower center', 'upper center', 'center'\n",
    "# We'll also specify the fontsize\n",
    "plt.legend(loc='best', fontsize=15)\n",
    "\n",
    "plt.show()"
   ]
  },
  {
   "cell_type": "markdown",
   "id": "52de753c",
   "metadata": {},
   "source": [
    "### Plot Unique Appl Ids and Base Project Numbers on Separate Plots"
   ]
  },
  {
   "cell_type": "code",
   "execution_count": null,
   "id": "a159b048",
   "metadata": {},
   "outputs": [],
   "source": [
    "# figsize=(x, y) (x controls width, y controls the height)\n",
    "plt.figure(figsize=(15, 10))\n",
    "\n",
    "## SWITCHING TO SUBPLOTS ##\n",
    "# Now, we specify that we are creating subplots, here we make 2 vertically stacked ones\n",
    "plt.subplot(2, 1, 1)\n",
    "plt.plot('fiscal_year', 'appl_id_count', 'r', data=grouped_df)\n",
    "\n",
    "# Add a title which we'll use for Both\n",
    "# Note that this title is technically associated with subplot(2, 1, 1)\n",
    "plt.title('NCI R01 Applications and Base Projects per Fiscal Year, 2022-2024', size=20)\n",
    "\n",
    "# Add the y label\n",
    "# We'll rely on subplot(2, 1, 2) for the x label\n",
    "plt.ylabel('Count', size=15)\n",
    "\n",
    "# Adjust the y axis start\n",
    "plt.ylim(0, 5000)\n",
    "\n",
    "# Adjust the x tick marks and add fontsize and a rotation, again for subplot(2, 1, 1)\n",
    "plt.xticks(np.arange(2022, 2025, 1), fontsize=13, rotation=45)\n",
    "\n",
    "# Add a legend for subplot(2, 1, 1)\n",
    "plt.legend(fontsize=15)\n",
    "\n",
    "## NEXT SUBPLOT ##\n",
    "# Note the number change in the 3rd value\n",
    "plt.subplot(2, 1, 2)\n",
    "plt.plot('fiscal_year', 'project_serial_num_count', 'b', data=grouped_df)\n",
    "\n",
    "# Add the x and y labels for subplot(2, 1, 2)\n",
    "plt.ylabel('Count', size=15)\n",
    "plt.xlabel('Fiscal Year', size=15)\n",
    "\n",
    "# Adjust the x tick marks and add fontsize and a rotation for subplot(2, 1, 2)\n",
    "plt.xticks(np.arange(2022, 2025, 1), fontsize=13, rotation=45)\n",
    "\n",
    "# Adjust the y axis start\n",
    "plt.ylim(0, 5000)\n",
    "\n",
    "# For the y axis, we will just adjust the fontsize and leave other things as is for subplot(2, 1, 2)\n",
    "plt.yticks(fontsize=13)\n",
    "\n",
    "# Add a legend for subplot(2, 1, 2)\n",
    "plt.legend(fontsize=15)\n",
    "\n",
    "plt.show()"
   ]
  },
  {
   "cell_type": "code",
   "execution_count": null,
   "id": "ad2b9bef-86e2-45c9-8051-3d59481b3845",
   "metadata": {},
   "outputs": [],
   "source": [
    "# figsize=(x, y) (x controls width, y controls the height)\n",
    "plt.figure(figsize=(15, 10))\n",
    "\n",
    "## SWITCHING TO SUBPLOTS ##\n",
    "# Now, we specify that we are creating subplots, here we make 2 vertically stacked ones\n",
    "plt.subplot(2, 1, 1)\n",
    "plt.bar('fiscal_year', 'appl_id_count', color='g', data=grouped_df)\n",
    "\n",
    "# Add a title which we'll use for Both\n",
    "# Note that this title is technically associated with subplot(2, 1, 1)\n",
    "plt.title('NCI R01 Applications and Base Projects per Fiscal Year, 2022-2024', size=20)\n",
    "\n",
    "# Add the y label\n",
    "# We'll rely on subplot(2, 1, 2) for the x label\n",
    "plt.ylabel('Count', size=15)\n",
    "\n",
    "# Adjust the y axis start\n",
    "plt.ylim(0, 5000)\n",
    "\n",
    "# Adjust the x tick marks and add fontsize and a rotation, again for subplot(2, 1, 1)\n",
    "plt.xticks(np.arange(2022, 2025, 1), fontsize=13, rotation=45)\n",
    "\n",
    "## NEXT SUBPLOT ##\n",
    "# Note the number change in the 3rd value\n",
    "plt.subplot(2, 1, 2)\n",
    "plt.bar('fiscal_year', 'project_serial_num_count', color='b', data=grouped_df)\n",
    "\n",
    "# Add the x and y labels for subplot(2, 1, 2)\n",
    "plt.ylabel('Count', size=15)\n",
    "plt.xlabel('Fiscal Year', size=15)\n",
    "\n",
    "# Adjust the x tick marks and add fontsize and a rotation for subplot(2, 1, 2)\n",
    "plt.xticks(np.arange(2022, 2025, 1), fontsize=13, rotation=45)\n",
    "\n",
    "# Adjust the y axis start\n",
    "plt.ylim(0, 5000)\n",
    "\n",
    "# For the y axis, we will just adjust the fontsize and leave other things as is for subplot(2, 1, 2)\n",
    "plt.yticks(fontsize=13)\n",
    "\n",
    "plt.show()"
   ]
  },
  {
   "cell_type": "markdown",
   "id": "0466a192",
   "metadata": {},
   "source": [
    "### Annotating Text on a Plot"
   ]
  },
  {
   "cell_type": "code",
   "execution_count": null,
   "id": "1c846a15",
   "metadata": {},
   "outputs": [],
   "source": [
    "# Let's say we want to point out the max point on a graph with an arrow\n",
    "# Let's first find the x and y point of the max point\n",
    "\n",
    "print(grouped_df[\"appl_id_count\"].max())\n",
    "print(grouped_df[\"project_serial_num_count\"].max())\n",
    "\n",
    "# What year does this max occur?\n",
    "print(grouped_df[grouped_df[\"appl_id_count\"] == grouped_df[\"appl_id_count\"].max()])"
   ]
  },
  {
   "cell_type": "code",
   "execution_count": null,
   "id": "720aeacd",
   "metadata": {},
   "outputs": [],
   "source": [
    "# figsize=(x, y) (x controls width, y controls the height)\n",
    "plt.figure(figsize=(15, 7))\n",
    "\n",
    "# Plotting on the same axes\n",
    "plt.plot('fiscal_year', 'appl_id_count', 'r', data=grouped_df)\n",
    "plt.plot('fiscal_year', 'project_serial_num_count', 'b', data=grouped_df)\n",
    "\n",
    "# Add the x and y labels\n",
    "plt.ylabel('Count', size=15)\n",
    "plt.xlabel('Fiscal Year', size=15)\n",
    "\n",
    "# Add a title\n",
    "plt.title('NCI R01 Applications and Base Projects per Fiscal Year, 2022-2024', size=20)\n",
    "\n",
    "# Adjust the x tick marks and add fontsize and a rotation\n",
    "plt.xticks(np.arange(2022, 2025, 1), fontsize=13, rotation=45)\n",
    "\n",
    "# For the y axis, we will just adjust the fontsize and leave other things as is\n",
    "plt.yticks(fontsize=13)\n",
    "\n",
    "# Adjust the y axis start\n",
    "plt.ylim(0, 5000)\n",
    "\n",
    "# Add a legend and specify where we want it \n",
    "# Options here are: 'best', 'upper right', 'upper left', 'lower left', 'lower right', \n",
    "# 'right', 'center left', 'center right', 'lower center', 'upper center', 'center'\n",
    "# We'll also specify the fontsize\n",
    "plt.legend(loc='best', fontsize=15)\n",
    "\n",
    "### ADDING AN ARROW ###\n",
    "# We'll use the values we determined earlier\n",
    "plt.annotate('max', xy=(2023, 4067), xytext=(2023, 4500), fontsize=12,\n",
    "             arrowprops=dict(facecolor='black'),\n",
    "             )\n",
    "\n",
    "plt.show()"
   ]
  },
  {
   "cell_type": "code",
   "execution_count": null,
   "id": "5e76e1c5-38ee-4727-821c-735f50c5e7bf",
   "metadata": {},
   "outputs": [],
   "source": []
  }
 ],
 "metadata": {
  "kernelspec": {
   "display_name": "Python 3 (ipykernel)",
   "language": "python",
   "name": "python3"
  },
  "language_info": {
   "codemirror_mode": {
    "name": "ipython",
    "version": 3
   },
   "file_extension": ".py",
   "mimetype": "text/x-python",
   "name": "python",
   "nbconvert_exporter": "python",
   "pygments_lexer": "ipython3",
   "version": "3.12.4"
  }
 },
 "nbformat": 4,
 "nbformat_minor": 5
}
