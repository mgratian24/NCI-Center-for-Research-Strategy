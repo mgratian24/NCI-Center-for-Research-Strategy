{
 "cells": [
  {
   "cell_type": "markdown",
   "id": "55478231",
   "metadata": {},
   "source": [
    "# Understanding Matplotlib's Explicit Interface\n",
    "__________________________________________________\n",
    "\n",
    "## About:\n",
    "\n",
    "This tutorial provides an overview of using Matplotlib's Explicit plotting interface. It is not intended as a data visualization tutorial. \n",
    "\n",
    "This tutorial was developed by Margaret Gratian and is adapted from Matplotlib's official documentation: https://matplotlib.org/stable/tutorials/introductory/lifecycle.html#sphx-glr-tutorials-introductory-lifecycle-py. It illustrates how Matplotlib's explicit plotting interface can be used with public award data from NIH RePORTER. The goal will be to plot unique counts of NCI application IDs and base projects each fiscal year.\n",
    "\n",
    "\n",
    "## Inputs:\n",
    "- Input Filepath 1: \"../data/public_nih_reporter_data.csv\"\n",
    "    - Public NCI R01 awards in FY 2022 - 2024 from NIH RePORTER. Data is as of 3/13/2025. "
   ]
  },
  {
   "cell_type": "markdown",
   "id": "60ae88d6",
   "metadata": {},
   "source": [
    "## Import Packages"
   ]
  },
  {
   "cell_type": "code",
   "execution_count": null,
   "id": "83047fce",
   "metadata": {},
   "outputs": [],
   "source": [
    "import pandas as pd\n",
    "import matplotlib.pyplot as plt"
   ]
  },
  {
   "cell_type": "markdown",
   "id": "f53f45d0",
   "metadata": {},
   "source": [
    "## Read in Data"
   ]
  },
  {
   "cell_type": "code",
   "execution_count": null,
   "id": "956ff49c",
   "metadata": {},
   "outputs": [],
   "source": [
    "raw_reporter_df = pd.read_csv(\"../data/public_nih_reporter_data.csv\", skiprows=1, index_col=0)\n",
    "\n",
    "# See the shape\n",
    "print(raw_reporter_df.shape)\n",
    "\n",
    "# Preview the data\n",
    "raw_reporter_df.head()"
   ]
  },
  {
   "cell_type": "markdown",
   "id": "232081e7",
   "metadata": {},
   "source": [
    "## Dataset Development"
   ]
  },
  {
   "cell_type": "markdown",
   "id": "50923509-c0bc-4757-878e-01389c2f687c",
   "metadata": {},
   "source": [
    "### Prep Data for Analysis"
   ]
  },
  {
   "cell_type": "code",
   "execution_count": null,
   "id": "492b28d2",
   "metadata": {},
   "outputs": [],
   "source": [
    "# Check for duplicates and drop any\n",
    "# Note we make a copy and do not modify our original input data\n",
    "reporter_df = raw_reporter_df.copy().drop_duplicates()\n",
    "\n",
    "reporter_df.shape"
   ]
  },
  {
   "cell_type": "code",
   "execution_count": null,
   "id": "187c8823",
   "metadata": {},
   "outputs": [],
   "source": [
    "# Check if the data is unique for Appl Id, a unique identifier in the NIH data\n",
    "# This should match the shape\n",
    "reporter_df[\"appl_id\"].nunique()"
   ]
  },
  {
   "cell_type": "markdown",
   "id": "5ae5fbce-02e1-4c5b-90c3-871b1c7477ef",
   "metadata": {},
   "source": [
    "### Group Data for Plotting"
   ]
  },
  {
   "cell_type": "code",
   "execution_count": null,
   "id": "60eab432",
   "metadata": {},
   "outputs": [],
   "source": [
    "# Group by fiscal year and count unique appl ids and unique project serial numbers (also known as base project numbers in the NIH data)\n",
    "grouped_df = reporter_df.groupby([\"fiscal_year\"], as_index=False).agg({\"appl_id\":  \"nunique\", \"project_serial_num\":  \"nunique\"})\n",
    "\n",
    "# Reset column names\n",
    "grouped_df.columns = [\"fiscal_year\", \"appl_id_count\", \"project_serial_num_count\"]"
   ]
  },
  {
   "cell_type": "code",
   "execution_count": null,
   "id": "73e03428",
   "metadata": {},
   "outputs": [],
   "source": [
    "# Preview the data\n",
    "grouped_df.head()"
   ]
  },
  {
   "cell_type": "markdown",
   "id": "3088725c-58c8-4dc7-b355-0ba04ec19c09",
   "metadata": {},
   "source": [
    "## Analyze and Extract Insights from Data\n",
    "\n",
    "The following steps will walk through elements of a plot and how they are created with the Explicit interface. The end goal is to plot the unique counts of application IDs (appl_id_count) and base project numbers (project_serial_num_count) over the three years of the data."
   ]
  },
  {
   "cell_type": "markdown",
   "id": "c4a6b7ad",
   "metadata": {},
   "source": [
    " ## Explicit Plotting"
   ]
  },
  {
   "cell_type": "code",
   "execution_count": null,
   "id": "cd9416e1",
   "metadata": {},
   "outputs": [],
   "source": [
    "# Create the figure and axes \n",
    "# Figure == your canvas\n",
    "# Axes == part of the canvas where we'll place a visualization\n",
    "\n",
    "# Create the figure and axes\n",
    "# The subplot function returns two objects - a figure and an axes, which we're assigning to variable names fig, ax\n",
    "# Note also that subplot creates a grid. By not passing in any additional parameters, \n",
    "# We're creating a grid of one row and one column \n",
    "# See more: https://matplotlib.org/stable/api/_as_gen/matplotlib.pyplot.subplots.html\n",
    "fig, ax = plt.subplots()"
   ]
  },
  {
   "cell_type": "code",
   "execution_count": null,
   "id": "ecd11f22",
   "metadata": {},
   "outputs": [],
   "source": [
    "# Now, let's create an axes and figure but actually put something on it \n",
    "# Note the default x-axis is not ideal - we'll fix this in the next step\n",
    "\n",
    "# Create the figure and axes\n",
    "fig, ax = plt.subplots()\n",
    "\n",
    "# Add a line plot on the axes\n",
    "ax.plot(\"fiscal_year\", \"appl_id_count\", data = grouped_df)"
   ]
  },
  {
   "cell_type": "code",
   "execution_count": null,
   "id": "69484d47",
   "metadata": {},
   "outputs": [],
   "source": [
    "# Add customization to the plot via the axes object\n",
    "\n",
    "# Create the figure and axes\n",
    "fig, ax = plt.subplots()\n",
    "\n",
    "# Add a line plot on the axes\n",
    "ax.plot(\"fiscal_year\", \"appl_id_count\", data = grouped_df)\n",
    "\n",
    "# Set properties of the axes \n",
    "ax.set(ylim=[0, 5100], xlabel='Fiscal Year', ylabel='Application Count',\n",
    "       title='NCI R01 Application Counts Per Fiscal Year, FY 2022-2024', xticks=range(2022, 2025))"
   ]
  },
  {
   "cell_type": "code",
   "execution_count": null,
   "id": "a78df560",
   "metadata": {},
   "outputs": [],
   "source": [
    "# Adjust the figure and fontsizes\n",
    "\n",
    "# Create the figure and axes\n",
    "fig, ax = plt.subplots(figsize=(15, 5))\n",
    "\n",
    "# Add a line plot on the axes\n",
    "ax.plot(\"fiscal_year\", \"appl_id_count\", data = grouped_df)\n",
    "\n",
    "# Set properties of the axes \n",
    "# Note we add a semicolon to supress the output we saw above before our plot\n",
    "ax.set(ylim=[0, 5100], xlabel='Fiscal Year', ylabel='Application Count',\n",
    "       title='NCI R01 Application Counts Per Fiscal Year, FY 2022-2024', xticks=range(2022, 2025));"
   ]
  },
  {
   "cell_type": "code",
   "execution_count": null,
   "id": "0cfb218a",
   "metadata": {},
   "outputs": [],
   "source": [
    "# What if we want to rotate our tick labels? \n",
    "\n",
    "# Create the figure and axes\n",
    "fig, ax = plt.subplots(figsize=(15, 5))\n",
    "\n",
    "# Add a line plot on the axes\n",
    "ax.plot(\"fiscal_year\", \"appl_id_count\", data = grouped_df)\n",
    "\n",
    "# Set properties of the axes \n",
    "# Note we add a semicolon to supress the output we saw above before our plot\n",
    "ax.set(ylim=[0, 5100], xlabel='Fiscal Year', ylabel='Application Count',\n",
    "       title='NCI R01 Application Counts Per Fiscal Year, FY 2022-2024', xticks=range(2022, 2025));\n",
    "\n",
    "## ADJUSTING TICK LABELS ##\n",
    "# We need to get the tick labels that exist on the axes and then adjust them\n",
    "labels = ax.get_xticklabels()\n",
    "plt.setp(labels, rotation=45);"
   ]
  },
  {
   "cell_type": "code",
   "execution_count": null,
   "id": "198164cd",
   "metadata": {},
   "outputs": [],
   "source": [
    "# Earlier, we used ax.set() to add a lot of things at once to the plot\n",
    "# We could also individually add them to the axes and gain even more control over adjusting them\n",
    "\n",
    "# Create the figure and axes\n",
    "fig, ax = plt.subplots(figsize=(15, 5))\n",
    "\n",
    "# Add a line plot on the axes\n",
    "ax.plot(\"fiscal_year\", \"appl_id_count\", data = grouped_df)\n",
    "\n",
    "# Set the title\n",
    "# Move it a little higher with y = 1.05 and set the fontsize with the size parameter\n",
    "ax.set_title('NCI R01 Application Counts Per Fiscal Year, FY 2022-2024', y=1.05, size=20)\n",
    "\n",
    "# Set the ylim (min and max on y axis)\n",
    "ax.set_ylim([0, 5100])\n",
    "\n",
    "# Set the x and y tick fontsize. We could also set these separately by specifying either 'x' or 'y' for axis\n",
    "ax.tick_params(axis='both', labelsize=12)\n",
    "\n",
    "# Adjust the x ticks to label each fiscal year \n",
    "ax.set(xticks=range(2022, 2025))\n",
    "\n",
    "# Adjust the x tick labels rotation\n",
    "labels = ax.get_xticklabels()\n",
    "plt.setp(labels, rotation=45);\n",
    "\n",
    "# Set the x and y labels\n",
    "ax.set_xlabel(\"Fiscal Year\", size=15)\n",
    "ax.set_ylabel(\"Application Count\", size=15);"
   ]
  },
  {
   "cell_type": "markdown",
   "id": "f2ee7007",
   "metadata": {},
   "source": [
    "## Adding a Second Line and Legend"
   ]
  },
  {
   "cell_type": "code",
   "execution_count": null,
   "id": "d35b9401",
   "metadata": {},
   "outputs": [],
   "source": [
    "# Create the figure and axes\n",
    "fig, ax = plt.subplots(figsize=(15, 5))\n",
    "\n",
    "# Add a line plot on the axes\n",
    "ax.plot(\"fiscal_year\", \"appl_id_count\", data = grouped_df, color = 'red')\n",
    "\n",
    "# Add another line plot on the axes\n",
    "ax.plot(\"fiscal_year\", \"project_serial_num_count\", data = grouped_df, color = 'blue')\n",
    "\n",
    "# Set the title\n",
    "# Move it a little higher with y = 1.05 and set the fontsize with the size parameter\n",
    "ax.set_title('NCI R01 Application Counts Per Fiscal Year, FY 2022-2024', y=1.05, size=20)\n",
    "\n",
    "# Set the ylim (min and max on y axis)\n",
    "ax.set_ylim([0, 5100])\n",
    "\n",
    "# Set the x and y tick fontsize. We could also set these separately by specifying either 'x' or 'y' for axis\n",
    "ax.tick_params(axis='both', labelsize=12)\n",
    "\n",
    "# Adjust the x ticks to label each fiscal year \n",
    "ax.set(xticks=range(2022, 2025))\n",
    "\n",
    "# Adjust the x tick labels rotation\n",
    "labels = ax.get_xticklabels()\n",
    "plt.setp(labels, rotation=45);\n",
    "\n",
    "# Set the x and y labels\n",
    "ax.set_xlabel(\"Fiscal Year\", size=15)\n",
    "ax.set_ylabel(\"Application Count\", size=15);\n",
    "\n",
    "# Add a legend\n",
    "ax.legend()"
   ]
  },
  {
   "cell_type": "markdown",
   "id": "d41a542c",
   "metadata": {},
   "source": [
    "## Save the figure"
   ]
  },
  {
   "cell_type": "code",
   "execution_count": null,
   "id": "847dc278",
   "metadata": {},
   "outputs": [],
   "source": [
    "# Create the figure and axes\n",
    "fig, ax = plt.subplots(figsize=(15, 5))\n",
    "\n",
    "# Add a line plot on the axes\n",
    "ax.plot(\"fiscal_year\", \"appl_id_count\", data = grouped_df, color = 'red')\n",
    "\n",
    "# Add another line plot on the axes\n",
    "ax.plot(\"fiscal_year\", \"project_serial_num_count\", data = grouped_df, color = 'blue')\n",
    "\n",
    "# Set the title\n",
    "# Move it a little higher with y = 1.05 and set the fontsize with the size parameter\n",
    "ax.set_title('NCI R01 Application Counts Per Fiscal Year, FY 2022-2024', y=1.05, size=20)\n",
    "\n",
    "# Set the ylim (min and max on y axis)\n",
    "ax.set_ylim([0, 5100])\n",
    "\n",
    "# Set the x and y tick fontsize. We could also set these separately by specifying either 'x' or 'y' for axis\n",
    "ax.tick_params(axis='both', labelsize=12)\n",
    "\n",
    "# Adjust the x ticks to label each fiscal year \n",
    "ax.set(xticks=range(2022, 2025))\n",
    "\n",
    "# Adjust the x tick labels rotation\n",
    "labels = ax.get_xticklabels()\n",
    "plt.setp(labels, rotation=45);\n",
    "\n",
    "# Set the x and y labels\n",
    "ax.set_xlabel(\"Fiscal Year\", size=15)\n",
    "ax.set_ylabel(\"Application Count\", size=15);\n",
    "\n",
    "# Add a legend\n",
    "ax.legend()\n",
    "\n",
    "## SAVE THE FIGURE ##\n",
    "plt.savefig(\"applications_and projects_per_fy.png\")"
   ]
  },
  {
   "cell_type": "code",
   "execution_count": null,
   "id": "dbd6d7f5",
   "metadata": {},
   "outputs": [],
   "source": []
  }
 ],
 "metadata": {
  "kernelspec": {
   "display_name": "Python 3 (ipykernel)",
   "language": "python",
   "name": "python3"
  },
  "language_info": {
   "codemirror_mode": {
    "name": "ipython",
    "version": 3
   },
   "file_extension": ".py",
   "mimetype": "text/x-python",
   "name": "python",
   "nbconvert_exporter": "python",
   "pygments_lexer": "ipython3",
   "version": "3.12.4"
  }
 },
 "nbformat": 4,
 "nbformat_minor": 5
}
