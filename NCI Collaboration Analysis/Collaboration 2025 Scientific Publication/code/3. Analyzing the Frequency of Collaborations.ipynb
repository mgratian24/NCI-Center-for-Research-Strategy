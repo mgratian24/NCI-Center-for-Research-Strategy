{
 "cells": [
  {
   "cell_type": "markdown",
   "id": "95b8b5c9",
   "metadata": {},
   "source": [
    "# Impact of the 21st Century Cures Act on Stimulating Collaboration\n",
    "________________________________________________________________________\n",
    "\n",
    "## 3. Analyzing the Frequency of Collaborations\n",
    "\n",
    "**About:** \n",
    "\n",
    "This notebook is provided to meet the data availability requirements for a scientific publication.\n",
    "\n",
    "The data used in this notebook is provided to meet the data availability requirements for a scientific publication. Data is derived from NIH's internal datasets and from Digital Science's Dimensions Platform. Data from Digital Science is based on metadata as of March 2024 from Digital Science's Dimensions platform, available at https://app.dimensions.ai/.  Access was granted under license agreement with the National Cancer Institute. Researchers interested in exploring the data further should visit the Dimensions platform website.\n",
    "\n",
    "**Notebook Goals:**\n",
    "\n",
    "This notebook is used to evaluate if there is a difference in the frequency of collaborative events among NCI funded PIs and 21st Century Cures Act PIs. It provides one form of evidence for answering the following research question: Did the number of collaborations among 21st Century Cures Act-supported investigators increase? \n",
    "\n",
    "This notebook is part of a series of notebooks on evaluating the impact of the 21st Century Cures Act on stimulating collaboration in the cancer research community.\n",
    "\n",
    "**Key Definitions:**\n",
    "- NCI PI Network: a network of investigators who received qualifying funding from NCI in FY 2017-2023.\n",
    "- Cures Act PI Network: a network of investigators who were funded through the 21st Century Cures Act in FY 2017-2023.\n",
    "- Collaboration: A pairwise collaboration between two NCI supported PIs in the network. These form the edges of the network. Various edge count columns are available that describe the type and number of collaborations.\n",
    "- Collaborative Event: A measureable collaboration between NCI supported extramural investigators. Here, these are defined as NIH base projects OR publications (peer-reviewed articles OR conference proceedings/abstracts).\n",
    "\n",
    "**Required Packages:**\n",
    "- Pandas\n",
    "\n",
    "**Notebook Input Files:**\n",
    "\n",
    "This notebook assumes you used the filepaths recommended in Notebook 1. If you did not, be sure to change the path to the cures_agg_edges.csv file to the filename and location where you saved the Cures Act PI Network aggregated edge table.\n",
    "\n",
    "- Input Filepath 1: \"../data/collaboration_network/agg_edges.csv\"\n",
    "    - The aggregated edge table for the NCI PI Network\n",
    "- Input Filepath 2: \"../data/cures_agg_edges.csv\"\n",
    "    - The aggregated edge table for the Cures Act PI Network\n",
    "\n",
    "**Notebook Output Files:**\n",
    "\n",
    "No outputs are generated in this notebook."
   ]
  },
  {
   "cell_type": "markdown",
   "id": "ad52b3a5",
   "metadata": {},
   "source": [
    "## Import Packages"
   ]
  },
  {
   "cell_type": "code",
   "execution_count": null,
   "id": "8821309c",
   "metadata": {},
   "outputs": [],
   "source": [
    "import pandas as pd"
   ]
  },
  {
   "cell_type": "markdown",
   "id": "0802d585",
   "metadata": {},
   "source": [
    "## Functions"
   ]
  },
  {
   "cell_type": "code",
   "execution_count": null,
   "id": "a6a1a7af",
   "metadata": {},
   "outputs": [],
   "source": [
    "def add_volume_bin(row):\n",
    "    \"\"\"\n",
    "    This function takes a row of a DataFrame containing the total number of collaborations\n",
    "    between a PI pair and returns a collaboration frequency category of either 1, 2, or 3+.\n",
    "    \n",
    "    The function assumes you are applying it to an aggregated edge table. By definition of a row\n",
    "    existing in the aggregated edge table, there is at least one collaborative event.\n",
    "    \n",
    "    Parameters:\n",
    "    -----------\n",
    "    row: Pandas DataFrame row (or dictionary)\n",
    "        A row from the aggregated edge table that has a \"n_tot_collabs\" field\n",
    "    \n",
    "    Returns:\n",
    "    --------\n",
    "    bin_cat: string\n",
    "        A string indicating a categorical label of 1, 2, or 3+\n",
    "    \n",
    "    \"\"\"\n",
    "    total = row[\"n_tot_collabs\"]\n",
    "    \n",
    "    # Assign bin category\n",
    "    if total == 1:\n",
    "        bin_cat = \"1\"\n",
    "    elif total == 2:\n",
    "        bin_cat = \"2\"\n",
    "    else:\n",
    "        bin_cat = \"3+\"\n",
    "\n",
    "    return bin_cat"
   ]
  },
  {
   "cell_type": "code",
   "execution_count": null,
   "id": "bbd79e0e",
   "metadata": {},
   "outputs": [],
   "source": [
    "# Demonstrate how the function works\n",
    "print(add_volume_bin({\"n_tot_collabs\":1}))\n",
    "print(add_volume_bin({\"n_tot_collabs\":2}))\n",
    "print(add_volume_bin({\"n_tot_collabs\":4}))"
   ]
  },
  {
   "cell_type": "markdown",
   "id": "d9be747d",
   "metadata": {},
   "source": [
    "## Read in Data"
   ]
  },
  {
   "cell_type": "code",
   "execution_count": null,
   "id": "c65d193d",
   "metadata": {},
   "outputs": [],
   "source": [
    "# Read in the NCI PI Network aggregated edge data \n",
    "# We skip the first row, as the data availability statement is found there.\n",
    "agg_edges_df = pd.read_csv(\"../data/collaboration_network/agg_edges.csv\", skiprows=1)\n",
    "print(agg_edges_df.shape)\n",
    "\n",
    "agg_edges_df.head()"
   ]
  },
  {
   "cell_type": "code",
   "execution_count": null,
   "id": "998c7c59",
   "metadata": {},
   "outputs": [],
   "source": [
    "# Read in the Cures Act PI Network aggregated edge data \n",
    "cures_agg_edges_df = pd.read_csv(\"../data/cures_agg_edges.csv\")\n",
    "print(cures_agg_edges_df.shape)\n",
    "\n",
    "cures_agg_edges_df.head()"
   ]
  },
  {
   "cell_type": "markdown",
   "id": "4d236be6",
   "metadata": {},
   "source": [
    "## Dataset Development"
   ]
  },
  {
   "cell_type": "markdown",
   "id": "4a85390b",
   "metadata": {},
   "source": [
    "### Calculate Collaboration Frequency for the NCI PI Network"
   ]
  },
  {
   "cell_type": "code",
   "execution_count": null,
   "id": "e1f76c2c",
   "metadata": {},
   "outputs": [],
   "source": [
    "# First, preview and understand the data\n",
    "# n_tot_collabs is the summation of n_pub_collabs and n_proj_collabs\n",
    "agg_edges_df[[\"source\", \"target\", \"n_tot_collabs\", \"n_pub_collabs\", \"n_proj_collabs\"]].head()"
   ]
  },
  {
   "cell_type": "code",
   "execution_count": null,
   "id": "cff3bcc6",
   "metadata": {},
   "outputs": [],
   "source": [
    "# Build a new DataFrame and add a count_category column by applying the function defined at the start of the notebook\n",
    "agg_edges_df_cp = agg_edges_df.copy()\n",
    "\n",
    "agg_edges_df_cp[\"count_category\"] = agg_edges_df_cp.apply(add_volume_bin, axis=1)\n",
    "\n",
    "# Preview\n",
    "agg_edges_df_cp[[\"source\", \"target\", \"n_tot_collabs\", \"count_category\"]].head()"
   ]
  },
  {
   "cell_type": "code",
   "execution_count": null,
   "id": "1713444a",
   "metadata": {},
   "outputs": [],
   "source": [
    "# Now, use a group by to see how many pairs fall into each count_category\n",
    "# Because the data is unique for source-target pairs, we can count the size of the resulting groups\n",
    "# to know how many pairs there are per category\n",
    "bin_counts_nci = agg_edges_df_cp.groupby(by=\"count_category\").size().reset_index().rename(columns={0: \"count\"})\n",
    "\n",
    "# See the data\n",
    "bin_counts_nci"
   ]
  },
  {
   "cell_type": "code",
   "execution_count": null,
   "id": "5aa0d6f5",
   "metadata": {},
   "outputs": [],
   "source": [
    "# Add a percentage column\n",
    "bin_counts_nci[\"percentage\"] = bin_counts_nci[\"count\"]/sum(bin_counts_nci[\"count\"])\n",
    "\n",
    "# See the data\n",
    "bin_counts_nci"
   ]
  },
  {
   "cell_type": "markdown",
   "id": "7aa58a43",
   "metadata": {},
   "source": [
    "### Calculate Collaboration Frequency for the Cures Act PI Network"
   ]
  },
  {
   "cell_type": "code",
   "execution_count": null,
   "id": "b39b5ea2",
   "metadata": {},
   "outputs": [],
   "source": [
    "# Build a new DataFrame and add a count_category column by applying the function defined at the start of the notebook\n",
    "cures_agg_edges_df_cp = cures_agg_edges_df.copy()\n",
    "\n",
    "cures_agg_edges_df_cp[\"count_category\"] = cures_agg_edges_df_cp.apply(add_volume_bin, axis=1)\n",
    "\n",
    "# Preview\n",
    "cures_agg_edges_df_cp[[\"source\", \"target\", \"n_tot_collabs\", \"count_category\"]].head()"
   ]
  },
  {
   "cell_type": "code",
   "execution_count": null,
   "id": "892d7efa",
   "metadata": {},
   "outputs": [],
   "source": [
    "# Again, use a group by to see how many pairs fall into each count_category\n",
    "bin_counts_cures = cures_agg_edges_df_cp.groupby(by=\"count_category\").size().reset_index().rename(columns={0: \"count\"})\n",
    "\n",
    "# See the data\n",
    "bin_counts_cures"
   ]
  },
  {
   "cell_type": "code",
   "execution_count": null,
   "id": "e99e9efe",
   "metadata": {},
   "outputs": [],
   "source": [
    "# Add a percentage column\n",
    "bin_counts_cures[\"percentage\"] = bin_counts_cures[\"count\"]/sum(bin_counts_cures[\"count\"])\n",
    "\n",
    "# See the data\n",
    "bin_counts_cures"
   ]
  },
  {
   "cell_type": "code",
   "execution_count": null,
   "id": "7260b35a",
   "metadata": {},
   "outputs": [],
   "source": []
  }
 ],
 "metadata": {
  "kernelspec": {
   "display_name": "Python 3 (ipykernel)",
   "language": "python",
   "name": "python3"
  },
  "language_info": {
   "codemirror_mode": {
    "name": "ipython",
    "version": 3
   },
   "file_extension": ".py",
   "mimetype": "text/x-python",
   "name": "python",
   "nbconvert_exporter": "python",
   "pygments_lexer": "ipython3",
   "version": "3.10.8"
  }
 },
 "nbformat": 4,
 "nbformat_minor": 5
}
