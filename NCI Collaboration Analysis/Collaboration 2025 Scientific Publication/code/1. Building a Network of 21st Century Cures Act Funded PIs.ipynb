{
 "cells": [
  {
   "cell_type": "markdown",
   "id": "33a64439",
   "metadata": {},
   "source": [
    "# Impact of the 21st Century Cures Act on Stimulating Collaboration\n",
    "________________________________________________________________________\n",
    "\n",
    "## 1. Building a Network of 21st Century Cures Act Funded PIs\n",
    "\n",
    "**About:** \n",
    "\n",
    "This notebook is provided to meet the data availability requirements for a scientific publication.\n",
    "\n",
    "The data used in this notebook is provided to meet the data availability requirements for a scientific publication. Data is derived from NIH's internal datasets and from Digital Science's Dimensions Platform. Data from Digital Science is based on metadata as of March 2024 from Digital Science's Dimensions platform, available at https://app.dimensions.ai/.  Access was granted under license agreement with the National Cancer Institute. Researchers interested in exploring the data further should visit the Dimensions platform website.\n",
    "\n",
    "**Notebook Goals:**\n",
    "\n",
    "This notebook introduces two tables that together form a network of NCI supported extramural investigators, which we call the \"NCI PI Network\". This notebook demonstrates how fields in the tables can be used to produce a subset of the NCI PI Network that represents the PIs funded through the 21st Century Cures Act, referred to as the \"Cures Act PI Network\" in this notebook and subsequent ones. \n",
    "\n",
    "This notebook is part of a series of notebooks on evaluating the impact of the 21st Century Cures Act on stimulating collaboration in the cancer research community.\n",
    "\n",
    "**Key Definitions:**\n",
    "- NCI supported: indicates NCI extramural funding (grants).\n",
    "- 21st Century Cures Act supported: indicates extramural funding through the 21st Century Cures Act.\n",
    "- NCI PI Network: a network of investigators who received qualifying funding from NCI in FY 2017-2023.\n",
    "- Cures Act PI Network: a network of investigators who were funded through the 21st Century Cures Act in FY 2017-2023.\n",
    "- PI: an NCI supported extramural investigator. These form the nodes of the network. \n",
    "- Collaboration: A pairwise collaboration between two NCI supported PIs in the network. These form the edges of the network. Various edge count columns are available that describe the type and number of collaborations.\n",
    "- Collaborative Event: A measureable collaboration between NCI supported extramural investigators. Here, these are defined as NIH base projects OR publications (peer-reviewed articles OR conference proceedings/abstracts).\n",
    "\n",
    "**Required Packages:**\n",
    "- Pandas\n",
    "\n",
    "**Notebook Input Files:**\n",
    "- Input Filepath 1: \"../data/collaboration_network/nodes.csv\"\n",
    "    - The nodes table for the NCI PI Network\n",
    "- Input Filepath 2: \"../data/collaboration_network/agg_edges.csv\"\n",
    "    - The aggregated edge table for the NCI PI Network\n",
    "\n",
    "**Notebook Output Files:**\n",
    "\n",
    "We recommend saving the tables produced in this notebook with the following paths and filenames. Subsequent notebooks will use these tables for analysis.\n",
    "\n",
    "- Output Filepath 1: \"../data/cures_nodes.csv\"\n",
    "    - A nodes table containing NIH PIs who received 21st Century Cures Act funding in FY 2017-2023.\n",
    "- Output Filepath 2: \"../data/cures_agg_edges.csv\"\n",
    "    - An aggregated edge table containing publication and project collaborations among NIH PIs who received 21st Century Cures Act funding in FY 2017-2023."
   ]
  },
  {
   "cell_type": "markdown",
   "id": "5a65d714",
   "metadata": {},
   "source": [
    "## Import Packages"
   ]
  },
  {
   "cell_type": "code",
   "execution_count": null,
   "id": "2db70114",
   "metadata": {},
   "outputs": [],
   "source": [
    "import pandas as pd"
   ]
  },
  {
   "cell_type": "markdown",
   "id": "2b3e26ee",
   "metadata": {},
   "source": [
    "## Read in Data"
   ]
  },
  {
   "cell_type": "code",
   "execution_count": null,
   "id": "484d7be5",
   "metadata": {},
   "outputs": [],
   "source": [
    "# Read in the NCI PI Network node data\n",
    "# We skip the first row, as the data availability statement is found there.\n",
    "nodes_df = pd.read_csv(\"../data/collaboration_network/nodes.csv\", skiprows=1)\n",
    "print(nodes_df.shape)\n",
    "\n",
    "nodes_df.head()"
   ]
  },
  {
   "cell_type": "code",
   "execution_count": null,
   "id": "b2553b05",
   "metadata": {},
   "outputs": [],
   "source": [
    "# Read in the NCI PI Network aggregated edge data \n",
    "# We skip the first row, as the data availability statement is found there.\n",
    "agg_edges_df = pd.read_csv(\"../data/collaboration_network/agg_edges.csv\", skiprows=1)\n",
    "print(agg_edges_df.shape)\n",
    "\n",
    "agg_edges_df.head()"
   ]
  },
  {
   "cell_type": "markdown",
   "id": "06c8b472",
   "metadata": {},
   "source": [
    "## Dataset Development"
   ]
  },
  {
   "cell_type": "markdown",
   "id": "d6c0932d",
   "metadata": {},
   "source": [
    "### Understanding the Available Columns\n",
    "\n",
    "The nodes table is unique for PPID, which is a unique identifier used by NIH. In the nodes table, there are various columns that can be used to understand the projects that qualified the PI to be included in the network, the publications and NIH projects the PIs are associated with, and some columns specific to PIs who received 21st Century Cures Act Funding in FY 2017-2023.\n",
    "\n",
    "In the aggregated table, pairwise collaborations between PIs in the network are summarized. Each row is unique for a source PPID and target PPID. Each row represents an edge of the network. Various count columns can be used to understand these edges. \n",
    "\n",
    "For more information, please see the accompanying data dictionary. "
   ]
  },
  {
   "cell_type": "code",
   "execution_count": null,
   "id": "909fddee",
   "metadata": {},
   "outputs": [],
   "source": [
    "# See the columns in the nodes table.\n",
    "nodes_df.info()"
   ]
  },
  {
   "cell_type": "code",
   "execution_count": null,
   "id": "d0347a5f",
   "metadata": {},
   "outputs": [],
   "source": [
    "# See the columns in the agg_edges table.\n",
    "agg_edges_df.info()"
   ]
  },
  {
   "cell_type": "markdown",
   "id": "0b3d2899",
   "metadata": {},
   "source": [
    "### Subset the Nodes Table to PIs Who Received 21st Century Cures Act Funding"
   ]
  },
  {
   "cell_type": "code",
   "execution_count": null,
   "id": "094571ff",
   "metadata": {},
   "outputs": [],
   "source": [
    "# 21st Century Cures Act Funded PIs are identified using the moonshot_pi column\n",
    "nodes_df[\"moonshot_pi\"].value_counts(dropna=False)"
   ]
  },
  {
   "cell_type": "code",
   "execution_count": null,
   "id": "c60350ad",
   "metadata": {},
   "outputs": [],
   "source": [
    "# Make a copy and subset to where moonshot_pi == \"y\"\n",
    "cures_nodes_df = nodes_df[nodes_df[\"moonshot_pi\"] == \"y\"].copy()\n",
    "\n",
    "print(cures_nodes_df.shape)\n",
    "\n",
    "# Preview\n",
    "cures_nodes_df.head()"
   ]
  },
  {
   "cell_type": "markdown",
   "id": "e6f9aa40",
   "metadata": {},
   "source": [
    "### Subset Aggregated Edges to Collaborations Between PIs Who Received 21st Century Cures Act Funding"
   ]
  },
  {
   "cell_type": "code",
   "execution_count": null,
   "id": "68e60695",
   "metadata": {},
   "outputs": [],
   "source": [
    "# Edges between 21st Century Cures Act Funded PIs are identified using the ms_collab column\n",
    "agg_edges_df[\"ms_collab\"].value_counts(dropna=False)"
   ]
  },
  {
   "cell_type": "code",
   "execution_count": null,
   "id": "f1f00e4e",
   "metadata": {},
   "outputs": [],
   "source": [
    "# Make a copy and subset to where ms_collab == \"y\"\n",
    "cures_agg_edges_df = agg_edges_df[agg_edges_df[\"ms_collab\"] == \"y\"]\n",
    "\n",
    "print(cures_agg_edges_df.shape)\n",
    "\n",
    "# Preview\n",
    "cures_agg_edges_df.head()"
   ]
  },
  {
   "cell_type": "code",
   "execution_count": null,
   "id": "ed9ce289",
   "metadata": {},
   "outputs": [],
   "source": [
    "# Both the source and target PIs are 21st Century Cures Act Funded PIs in the resulting table\n",
    "print(cures_agg_edges_df[\"source_moonshot_pi\"].value_counts(dropna=False))\n",
    "print(cures_agg_edges_df[\"target_moonshot_pi\"].value_counts(dropna=False))"
   ]
  },
  {
   "cell_type": "markdown",
   "id": "8ed1f2e4",
   "metadata": {},
   "source": [
    "## Save Outputs\n",
    "\n",
    "We recommend saving the two tables with the following filepaths. Subsequent notebooks will assume these filepaths exist. If you choose to save to a different path or with a different file name, be sure to update this if you use the other notebooks."
   ]
  },
  {
   "cell_type": "code",
   "execution_count": null,
   "id": "bfbc7161",
   "metadata": {},
   "outputs": [],
   "source": [
    "# Nodes\n",
    "cures_nodes_df.to_csv(\"../data/cures_nodes.csv\", index=False)"
   ]
  },
  {
   "cell_type": "code",
   "execution_count": null,
   "id": "f6f0a4a1",
   "metadata": {},
   "outputs": [],
   "source": [
    "# Aggregated Edges\n",
    "cures_agg_edges_df.to_csv(\"../data/cures_agg_edges.csv\", index=False)"
   ]
  },
  {
   "cell_type": "code",
   "execution_count": null,
   "id": "d8f5d787",
   "metadata": {},
   "outputs": [],
   "source": []
  }
 ],
 "metadata": {
  "kernelspec": {
   "display_name": "Python 3 (ipykernel)",
   "language": "python",
   "name": "python3"
  },
  "language_info": {
   "codemirror_mode": {
    "name": "ipython",
    "version": 3
   },
   "file_extension": ".py",
   "mimetype": "text/x-python",
   "name": "python",
   "nbconvert_exporter": "python",
   "pygments_lexer": "ipython3",
   "version": "3.10.8"
  }
 },
 "nbformat": 4,
 "nbformat_minor": 5
}
