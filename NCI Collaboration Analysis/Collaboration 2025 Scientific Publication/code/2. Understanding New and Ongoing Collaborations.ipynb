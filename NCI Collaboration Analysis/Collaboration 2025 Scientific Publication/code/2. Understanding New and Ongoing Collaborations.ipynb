{
 "cells": [
  {
   "cell_type": "markdown",
   "id": "33a64439",
   "metadata": {},
   "source": [
    "# Impact of the 21st Century Cures Act on Stimulating Collaboration\n",
    "________________________________________________________________________\n",
    "\n",
    "## 2. Understanding New and Ongoing Collaborations\n",
    "\n",
    "**About:** \n",
    "\n",
    "This notebook is provided to meet the data availability requirements for a scientific publication.\n",
    "\n",
    "The data used in this notebook is provided to meet the data availability requirements for a scientific publication. Data is derived from NIH's internal datasets and from Digital Science's Dimensions Platform. Data from Digital Science is based on metadata as of March 2024 from Digital Science's Dimensions platform, available at https://app.dimensions.ai/.  Access was granted under license agreement with the National Cancer Institute. Researchers interested in exploring the data further should visit the Dimensions platform website.\n",
    "\n",
    "**Notebook Goals:**\n",
    "\n",
    "This notebook helps to answer the following 2 research questions:\n",
    "1) Did new collaborations form between 21st Century Cures Act funded investigators?  \n",
    "2) Did collaborations that began before 21st Century Cures Act funding persist with Cures Act funding support?\n",
    "\n",
    "This notebook is part of a series of notebooks on evaluating the impact of the 21st Century Cures Act on stimulating collaboration in the cancer research community.\n",
    "\n",
    "**Key Definitions:**\n",
    "- Cures Act PI Network: a network of investigators who were funded through the 21st Century Cures Act in FY 2017-2023.\n",
    "- New collaboration: a pairwise collaboration between PIs that began in or after the fiscal year during which at least one PI in the collaborative pair received 21st Century Cures Act funding.\n",
    "- Ongoing collaboration: a pairwise collaboration between PIs that occurred both before and after the fiscal year during which at least one PI in the collaborative pair received 21st Century Cures Act funding.  \n",
    "\n",
    "**Required Packages:**\n",
    "- Pandas\n",
    "\n",
    "**Notebook Input Files:**\n",
    "\n",
    "This notebook assumes you used the filepaths recommended in Notebook 1. If you did not, be sure to change the input paths to the location where you saved the Cures Act PI Network nodes and aggregated edge tables.\n",
    "\n",
    "- Input Filepath 1: \"../data/cures_nodes.csv\"\n",
    "    - The nodes table for the Cures Act PI Network\n",
    "- Input Filepath 2: \"../data/cures_agg_edges.csv\"\n",
    "    - The aggregated edge table for the Cures Act PI Network\n",
    "\n",
    "**Notebook Output Files:**\n",
    "\n",
    "No outputs are generated in this notebook."
   ]
  },
  {
   "cell_type": "markdown",
   "id": "5a65d714",
   "metadata": {},
   "source": [
    "## Import Packages"
   ]
  },
  {
   "cell_type": "code",
   "execution_count": null,
   "id": "2db70114",
   "metadata": {},
   "outputs": [],
   "source": [
    "import pandas as pd"
   ]
  },
  {
   "cell_type": "markdown",
   "id": "2b3e26ee",
   "metadata": {},
   "source": [
    "## Read in Data"
   ]
  },
  {
   "cell_type": "code",
   "execution_count": null,
   "id": "484d7be5",
   "metadata": {},
   "outputs": [],
   "source": [
    "# Read in the node data\n",
    "nodes_df = pd.read_csv(\"../data/cures_nodes.csv\")\n",
    "print(nodes_df.shape)\n",
    "\n",
    "nodes_df.head()"
   ]
  },
  {
   "cell_type": "code",
   "execution_count": null,
   "id": "b2553b05",
   "metadata": {},
   "outputs": [],
   "source": [
    "# Read the aggregated edge data \n",
    "agg_edges_df = pd.read_csv(\"../data/cures_agg_edges.csv\")\n",
    "print(agg_edges_df.shape)\n",
    "\n",
    "agg_edges_df.head()"
   ]
  },
  {
   "cell_type": "markdown",
   "id": "8056f34c",
   "metadata": {},
   "source": [
    "## Analyze and Extract Insights from Data"
   ]
  },
  {
   "cell_type": "markdown",
   "id": "14385ec7",
   "metadata": {},
   "source": [
    "### Categorizing Collaboration Periods\n",
    "\n",
    "We define a new collaboration as one that occurs in the same year or after at least one PI in the collaborative pair received 21st Century Cures Act funding. We define an ongoing collaboration as one that occurred both before and after at least one PI in the collaborative pair received 21st Century Cures Act funding. This categorization is available in the \"ms_collab_period\" column of the aggregated edge table. "
   ]
  },
  {
   "cell_type": "code",
   "execution_count": null,
   "id": "29561744",
   "metadata": {},
   "outputs": [],
   "source": [
    "# Save a value counts of \"ms_collab_period\" to a series\n",
    "collab_period_series = agg_edges_df[\"ms_collab_period\"].value_counts(dropna=False)\n",
    "\n",
    "collab_period_series"
   ]
  },
  {
   "cell_type": "code",
   "execution_count": null,
   "id": "0693f042",
   "metadata": {},
   "outputs": [],
   "source": [
    "# Total new and ongoing\n",
    "collab_period_series[\"Post-Moonshot\"] + collab_period_series[\"Pre&Post-Moonshot\"]"
   ]
  },
  {
   "cell_type": "markdown",
   "id": "a91d951e",
   "metadata": {},
   "source": [
    "### Characterizing New Collaborations"
   ]
  },
  {
   "cell_type": "code",
   "execution_count": null,
   "id": "f13a055f",
   "metadata": {},
   "outputs": [],
   "source": [
    "# Subset the aggregated edge data to the post-21st Century Cures Act funded group (new collaborations)\n",
    "new_collabs_df = agg_edges_df[agg_edges_df[\"ms_collab_period\"] == \"Post-Moonshot\"]\n",
    "\n",
    "new_collabs_df.head()"
   ]
  },
  {
   "cell_type": "code",
   "execution_count": null,
   "id": "9f089157",
   "metadata": {},
   "outputs": [],
   "source": [
    "# How many PIs are part of new collabs?\n",
    "# This is the total number of unique PIs across the \"source\" and \"target\" columns\n",
    "\n",
    "pis = list(new_collabs_df[\"source\"]) + list(new_collabs_df[\"target\"])\n",
    "\n",
    "unique_new_collaborators = list(set(pis))\n",
    "\n",
    "# Count of PIs part of new collabs\n",
    "print(len(unique_new_collaborators))\n",
    "\n",
    "# % out of total PIs that are part of new collabs\n",
    "print(len(unique_new_collaborators)/len(nodes_df))"
   ]
  },
  {
   "cell_type": "code",
   "execution_count": null,
   "id": "c256694a",
   "metadata": {},
   "outputs": [],
   "source": [
    "# Now, look at the funding of these pairs\n",
    "# How many new collaborations were supported by funding through the 21st Century Cures Act? \n",
    "# This information is available in the \"ms_collab_funding_overall\" column\n",
    "new_collab_funded_series = new_collabs_df[\"ms_collab_funding_overall\"].value_counts(dropna=False)\n",
    "\n",
    "new_collab_funded_series"
   ]
  },
  {
   "cell_type": "markdown",
   "id": "eb0a749d",
   "metadata": {},
   "source": [
    "### Characterizing Ongoing Collaborations"
   ]
  },
  {
   "cell_type": "code",
   "execution_count": null,
   "id": "5716c26a",
   "metadata": {},
   "outputs": [],
   "source": [
    "# Subset the aggregated edge data to the pre&post Cures Act funded group (ongoing collaborations)\n",
    "ongoing_collabs_df = agg_edges_df[agg_edges_df[\"ms_collab_period\"] == \"Pre&Post-Moonshot\"]\n",
    "\n",
    "ongoing_collabs_df.head()"
   ]
  },
  {
   "cell_type": "code",
   "execution_count": null,
   "id": "d1efe805",
   "metadata": {},
   "outputs": [],
   "source": [
    "# How many PIs are part of ongoing collabs?\n",
    "# This is the total number of unique PIs across the \"source\" and \"target\" columns\n",
    "\n",
    "ongoing_collaborators = list(ongoing_collabs_df[\"source\"]) + list(ongoing_collabs_df[\"target\"])\n",
    "\n",
    "unique_ongoing_collaborators = list(set(ongoing_collaborators))\n",
    "\n",
    "# Count of PIs part of ongoing collabs\n",
    "print(len(unique_ongoing_collaborators))\n",
    "\n",
    "# % out of total MS PIs that are part of new collabs\n",
    "print(len(unique_ongoing_collaborators)/len(nodes_df))"
   ]
  },
  {
   "cell_type": "code",
   "execution_count": null,
   "id": "f109e19c",
   "metadata": {},
   "outputs": [],
   "source": [
    "# Now look at funding for these pairs\n",
    "# How many ongoing collaborations were supported by funding through the 21st Century Cures Act? \n",
    "ongoing_collab_funded_series = ongoing_collabs_df[\"ms_collab_funding_overall\"].value_counts()\n",
    "\n",
    "ongoing_collab_funded_series"
   ]
  },
  {
   "cell_type": "code",
   "execution_count": null,
   "id": "cc9912e4",
   "metadata": {},
   "outputs": [],
   "source": [
    "# Further subset to those where the collaboration was sustained with 21st Century Cures Act funding\n",
    "\n",
    "# Filter ongoing_collabs_df to those that had 21st Century Cures Act support\n",
    "subset_ongoing_collabs_df = ongoing_collabs_df[ongoing_collabs_df[\"ms_collab_funding_overall\"].isin([\"Moonshot Funded\"])]\n",
    "print(subset_ongoing_collabs_df.shape)"
   ]
  },
  {
   "cell_type": "code",
   "execution_count": null,
   "id": "e1ddc14d",
   "metadata": {},
   "outputs": [],
   "source": [
    "# For these 507 collaborations, 21st Century Cures Act support may have been on publications, projects, or both\n",
    "\n",
    "# To determine the pairs (number of collaborations) that had this support on their publications\n",
    "# we can filter the aggregated table to where \"n_ms_proj_collabs_excl_type3\" == 0 (0 funded projects)\n",
    "# and \"n_ms_pub_collabs\" > 0 (at least one funded publication)\n",
    "\n",
    "only_ms_pubs = subset_ongoing_collabs_df[(subset_ongoing_collabs_df[\"n_ms_proj_collabs_excl_type3\"] == 0) &\n",
    "                                   (subset_ongoing_collabs_df[\"n_ms_pub_collabs\"] > 0) \n",
    "                                  ]\n",
    "\n",
    "only_ms_pubs.shape"
   ]
  },
  {
   "cell_type": "code",
   "execution_count": null,
   "id": "e13dade4",
   "metadata": {},
   "outputs": [],
   "source": [
    "# To determine the pairs (number of collaborations) that had 21st Century Cures Act support on their projects\n",
    "# we can again filter the aggregated table, this time to where \"n_ms_proj_collabs_excl_type3\" > 0 \n",
    "# and \"n_ms_pub_collabs\" == 0\n",
    "only_ms_projs = subset_ongoing_collabs_df[(subset_ongoing_collabs_df[\"n_ms_proj_collabs_excl_type3\"] > 0) &\n",
    "                                   (subset_ongoing_collabs_df[\"n_ms_pub_collabs\"] == 0) \n",
    "                                  ]\n",
    "\n",
    "only_ms_projs.shape"
   ]
  },
  {
   "cell_type": "code",
   "execution_count": null,
   "id": "957bc58a",
   "metadata": {},
   "outputs": [],
   "source": [
    "# To determine the pairs (number of collaborations) that had 21st Century Cures Act support on both their projects\n",
    "# and their publications, we can again filter the aggregated table, \n",
    "# this time to where \"n_ms_proj_collabs_excl_type3\" > 0 and \"n_ms_pub_collabs\" > 0\n",
    "both = subset_ongoing_collabs_df[(subset_ongoing_collabs_df[\"n_ms_proj_collabs_excl_type3\"] > 0) &\n",
    "                                   (subset_ongoing_collabs_df[\"n_ms_pub_collabs\"] > 0) \n",
    "                                  ]\n",
    "\n",
    "both.shape"
   ]
  },
  {
   "cell_type": "code",
   "execution_count": null,
   "id": "2e109f13",
   "metadata": {},
   "outputs": [],
   "source": []
  }
 ],
 "metadata": {
  "kernelspec": {
   "display_name": "Python 3 (ipykernel)",
   "language": "python",
   "name": "python3"
  },
  "language_info": {
   "codemirror_mode": {
    "name": "ipython",
    "version": 3
   },
   "file_extension": ".py",
   "mimetype": "text/x-python",
   "name": "python",
   "nbconvert_exporter": "python",
   "pygments_lexer": "ipython3",
   "version": "3.10.8"
  }
 },
 "nbformat": 4,
 "nbformat_minor": 5
}
