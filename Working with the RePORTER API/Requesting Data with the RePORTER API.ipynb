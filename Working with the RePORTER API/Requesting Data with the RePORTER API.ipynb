{
 "cells": [
  {
   "cell_type": "markdown",
   "id": "c1098889",
   "metadata": {},
   "source": [
    "# Using the RePORTER API\n",
    "\n",
    "*This notebook and the request_reporter module were developed by Margaret Gratian with support from the NIH RePORTER team.*\n",
    "________________________________________________\n",
    "\n",
    "**Notebook Goals:**\n",
    "\n",
    "Demonstrate how to use the request_reporter module to request NIH award data from RePORTER.\n",
    "\n",
    "**Requirements:**\n",
    "\n",
    "This notebook relies on a simple custom package called reporter and its request_reporter module. The module has functions for requesting data from the RePORTER API and getting back results structured as a Pandas DataFrame. This module is not comprehensive of all RePORTER API functionality and instead can be thought of as a starting point for further development. \n",
    "\n",
    "The reporter package must be located in the same directory as this notebook in order for this notebook to run correctly. If you move the reporter directory location, you will need to adjust the structure of the import below to tell Python where to find the package, as this is not a published package available in the Python Package Index.\n",
    "\n",
    "**Resources:**\n",
    "- RePORTER homepage: https://reporter.nih.gov/\n",
    "- API information: https://api.reporter.nih.gov/"
   ]
  },
  {
   "cell_type": "markdown",
   "id": "0036dbdc",
   "metadata": {},
   "source": [
    "## Import Packages"
   ]
  },
  {
   "cell_type": "code",
   "execution_count": null,
   "id": "48af1b53",
   "metadata": {},
   "outputs": [],
   "source": [
    "import pandas as pd\n",
    "\n",
    "# Import the custom package for working with the RePORTER API\n",
    "from reporter import request_reporter as rr"
   ]
  },
  {
   "cell_type": "markdown",
   "id": "848afc09",
   "metadata": {},
   "source": [
    "## Demo Requesting Data from the API\n",
    "\n",
    "The query_reporter module consists of several different functions for requesting data from the RePORTER API. Below, some examples are included. "
   ]
  },
  {
   "cell_type": "markdown",
   "id": "8cd6b08a",
   "metadata": {},
   "source": [
    "### Request NCI Administered R01 Grants in FY24\n",
    "\n",
    "We can use the query_by_year_and_activity_codes function for this."
   ]
  },
  {
   "cell_type": "code",
   "execution_count": null,
   "id": "0e8aec40",
   "metadata": {},
   "outputs": [],
   "source": [
    "# See what this function does:\n",
    "help(rr.request_nci_awards_by_year_and_activity_codes)"
   ]
  },
  {
   "cell_type": "code",
   "execution_count": null,
   "id": "e76dd664",
   "metadata": {
    "scrolled": true
   },
   "outputs": [],
   "source": [
    "# Use the function to request R01 awards for FY 2024\n",
    "# Note by default of this function, it will return NCI administered awards.\n",
    "r01_24_results_df = rr.request_nci_awards_by_year_and_activity_codes([2024], [\"R01\"])\n",
    "print(r01_24_results_df.shape)\n",
    "\n",
    "r01_24_results_df.head()"
   ]
  },
  {
   "cell_type": "code",
   "execution_count": null,
   "id": "d9cec9c9-d34c-4d6d-860f-63cc635dc61e",
   "metadata": {},
   "outputs": [],
   "source": [
    "# If you had PIs you also wanted to specify, you could use the following function, passing a list of PPIDs as an additional paramter\n",
    "help(rr.request_nci_awards_by_year_activity_codes_and_ppids)"
   ]
  },
  {
   "cell_type": "markdown",
   "id": "d1fbc361",
   "metadata": {},
   "source": [
    "### Request R01 Equivalents for FY 2000-2020 for A Different IC\n",
    "\n",
    "The previous example demonstrated use of a function that is specific to NCI. Here, we use the more generic \"request_by_user_payload\" function to specify a different IC. We use NHLBI, but note that RePORTER contains data from NIH and other Federal agencies. \n",
    "\n",
    "As of 3/13/2025, if you want to request projects from other NIH ICs, you can use the following IC acronynms: \n",
    "- CLC\n",
    "- FIC\n",
    "- NCATS\n",
    "- NICCIH\n",
    "- NCI\n",
    "- NEI\n",
    "- NHGRI\n",
    "- NHLBI\n",
    "- NIA\n",
    "- NIAA\n",
    "- NIAID\n",
    "- NIAMS\n",
    "- NIBIB\n",
    "- NICHD\n",
    "- NIDA\n",
    "- NIDCD\n",
    "- NIDCR\n",
    "- NIDDK\n",
    "- NIEHS\n",
    "- NIGMS\n",
    "- NIMH\n",
    "- NIMHD\n",
    "- NINDS\n",
    "- NINR\n",
    "- NLM\n",
    "- OD\n",
    "\n",
    "Another important concept demonstrated in this example is handling large requests. The RePORTER API has a maximum value of 14,999 records from one request. In this example, we demonstrate an option for splitting up a large request to meet this constraint."
   ]
  },
  {
   "cell_type": "code",
   "execution_count": null,
   "id": "cd84b00a",
   "metadata": {},
   "outputs": [],
   "source": [
    "# Define criteria\n",
    "\n",
    "# FYs 2000-2020\n",
    "years = list(range(2000,2021))\n",
    "\n",
    "# Administering agencies\n",
    "# Note this must be passed as a list even though we are specifying just one agency\n",
    "agencies = [\"NHLBI\"]\n",
    "\n",
    "# NIH R01 equivalents\n",
    "r01_eq_codes = [\"R01\", \"DP1\", \"DP2\", \"DP5\", \"R23\", \"R29\", \"R37\", \"R56\", \"RF1\", \"RL1\", \"U01\"]"
   ]
  },
  {
   "cell_type": "code",
   "execution_count": null,
   "id": "7201f7f2",
   "metadata": {},
   "outputs": [],
   "source": [
    "# Create the payload \n",
    "data = {\n",
    "        \"criteria\":\n",
    "        {\n",
    "            \"fiscal_years\": years, \n",
    "            \"agencies\": agencies, \n",
    "            \"activity_codes\": r01_eq_codes\n",
    "        },\n",
    "        \"limit\":500,\n",
    "        \"sort_field\":\"project_start_date\",\n",
    "        \"sort_order\":\"desc\"\n",
    "}"
   ]
  },
  {
   "cell_type": "code",
   "execution_count": null,
   "id": "7a31e7e3",
   "metadata": {},
   "outputs": [],
   "source": [
    "# Now, we're going to use the get_total_records function to see how many results we can expect\n",
    "\n",
    "# See what the function does first\n",
    "help(rr.get_total_records)"
   ]
  },
  {
   "cell_type": "code",
   "execution_count": null,
   "id": "40cc3f41",
   "metadata": {},
   "outputs": [],
   "source": [
    "# Use the get_total_records function to see the expected number of results\n",
    "print(rr.get_total_records(data))"
   ]
  },
  {
   "cell_type": "code",
   "execution_count": null,
   "id": "b3b3e018",
   "metadata": {},
   "outputs": [],
   "source": [
    "# One strategy for approaching this is to chunk up the query by fiscal year\n",
    "\n",
    "# Split the years_range into chunks of 3 \n",
    "# We'll use a list comprehension to make lists of length 3\n",
    "year_subsets = [years[i:i + 3] for i in range(0, len(years), 3)]\n",
    "\n",
    "year_subsets"
   ]
  },
  {
   "cell_type": "code",
   "execution_count": null,
   "id": "3a29c177",
   "metadata": {},
   "outputs": [],
   "source": [
    "# We're going to use the query_by_user_payload function below \n",
    "help(rr.request_by_user_payload)"
   ]
  },
  {
   "cell_type": "code",
   "execution_count": null,
   "id": "bbc6bc2f",
   "metadata": {},
   "outputs": [],
   "source": [
    "# Now, request data 3 years at a time\n",
    "# This code saves both the results of each request as a csv \n",
    "# in addition to all request results combined into a DataFrame (that is later saved as a csv)\n",
    "\n",
    "# Create an empty list to hold results\n",
    "results = []\n",
    "    \n",
    "# Iterate through the entire list of lists\n",
    "for subset in year_subsets: \n",
    "    print(subset)\n",
    "    \n",
    "    # Create the payload \n",
    "    data = {\n",
    "            \"criteria\":\n",
    "            {\n",
    "                \"fiscal_years\": subset, # subset of fiscal years \n",
    "                \"agencies\":agencies, # payload criteria for funding agency, defined above \n",
    "                \"activity_codes\": r01_eq_codes # payload criteria for activity codes, defined above\n",
    "            },\n",
    "            \"limit\":500,\n",
    "            \"sort_field\":\"project_start_date\",\n",
    "            \"sort_order\":\"desc\"\n",
    "    }\n",
    "    \n",
    "    # Request and save results to subset \n",
    "    subset_df = rr.request_by_user_payload(data)\n",
    "    \n",
    "    # Optionally save each subset as its own dataset \n",
    "    filename = str(subset) + \".csv\"\n",
    "    subset_df.to_csv(filename)\n",
    "    \n",
    "    # Append the DataFrame to results\n",
    "    results.append(subset_df)"
   ]
  },
  {
   "cell_type": "code",
   "execution_count": null,
   "id": "f4ada62b",
   "metadata": {},
   "outputs": [],
   "source": [
    "# Concat list of results into DataFrame\n",
    "results_df = pd.concat(results)\n",
    "\n",
    "# See the shape - it should match what get_total_records told us we could expect!\n",
    "print(results_df.shape)\n",
    "\n",
    "# Preview the resulting DataFrame\n",
    "results_df.head()"
   ]
  },
  {
   "cell_type": "code",
   "execution_count": null,
   "id": "479f3640",
   "metadata": {},
   "outputs": [],
   "source": [
    "# Save this output\n",
    "results_df.to_csv(\"results.csv\")"
   ]
  },
  {
   "cell_type": "code",
   "execution_count": null,
   "id": "d3a46dbc",
   "metadata": {},
   "outputs": [],
   "source": []
  }
 ],
 "metadata": {
  "kernelspec": {
   "display_name": "Python 3 (ipykernel)",
   "language": "python",
   "name": "python3"
  },
  "language_info": {
   "codemirror_mode": {
    "name": "ipython",
    "version": 3
   },
   "file_extension": ".py",
   "mimetype": "text/x-python",
   "name": "python",
   "nbconvert_exporter": "python",
   "pygments_lexer": "ipython3",
   "version": "3.12.4"
  }
 },
 "nbformat": 4,
 "nbformat_minor": 5
}
