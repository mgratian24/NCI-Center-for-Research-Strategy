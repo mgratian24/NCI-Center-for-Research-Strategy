{
 "cells": [
  {
   "cell_type": "markdown",
   "id": "5685159e",
   "metadata": {},
   "source": [
    "# Function Documentation Template and Example\n",
    "\n",
    "Use the docstring template shown here to document functions. The docstring is based on the style used in libraries such as NumPy and Pandas."
   ]
  },
  {
   "cell_type": "markdown",
   "id": "bdda4003",
   "metadata": {},
   "source": [
    "## Docstring template "
   ]
  },
  {
   "cell_type": "code",
   "execution_count": 1,
   "id": "5dea999d",
   "metadata": {},
   "outputs": [],
   "source": [
    "def function_name(parameter_1, parameter_2):\n",
    "    \"\"\"\n",
    "    One sentence description of what the function does. \n",
    "    \n",
    "    (Optional) Only use if: ...\n",
    "    (Optional) Do not use for: ...\n",
    "    (Optional) Use with caution: ...\n",
    "    \n",
    "    Parameters:\n",
    "    -----------\n",
    "    parameter_1: datatype \n",
    "        Sentence description with additional details about the input, as needed\n",
    "    parameter_2: datatype \n",
    "        Sentence description with additional details about the input, as needed\n",
    "    etc.\n",
    "    \n",
    "    Returns: \n",
    "    --------\n",
    "    return_name: datatype\n",
    "        Sentence description with additional details about the output, as needed\n",
    "    \"\"\"\n",
    "    \n",
    "    # The keyword pass does not do anything and is typically used as a placeholder for code \n",
    "    # Using it here because no code will be written for this function \n",
    "    pass"
   ]
  },
  {
   "cell_type": "markdown",
   "id": "acb214f7",
   "metadata": {},
   "source": [
    "## Docstring Examples"
   ]
  },
  {
   "cell_type": "markdown",
   "id": "a22909c0",
   "metadata": {},
   "source": [
    "### Example 1"
   ]
  },
  {
   "cell_type": "code",
   "execution_count": 4,
   "id": "ed6cf560",
   "metadata": {},
   "outputs": [],
   "source": [
    "def count_r01s(df, activity_column):\n",
    "    \"\"\"\n",
    "    This function counts the number of R01s in a DataFrame.\n",
    "    \n",
    "    Only use if your dataframe is already deduplicated. \n",
    "\n",
    "    Parameters:\n",
    "    -----------\n",
    "    df: DataFrame\n",
    "        A deduplicated Pandas DataFrame containing a column of activity codes. \n",
    "    activity_column: string\n",
    "        The name of the column in the DataFrame with activity codes. \n",
    "        \n",
    "    Returns: \n",
    "    --------\n",
    "    r01_count: Integer\n",
    "        The number of R01 mechanisms in the DataFrame. \n",
    "    \"\"\"\n",
    "    \n",
    "    # Get a count of all values in the activity_column and save to a Pandas Series called \"value_counts\"\n",
    "    value_counts = df[activity_column].value_counts()\n",
    "    \n",
    "    # Get the number of R01s from the value_counts series and assign to a new variable\n",
    "    r01_count = value_count[\"R01\"]\n",
    "    \n",
    "    # Return the count as the function's output\n",
    "    return r01_count"
   ]
  },
  {
   "cell_type": "code",
   "execution_count": null,
   "id": "bddf6259",
   "metadata": {},
   "outputs": [],
   "source": []
  }
 ],
 "metadata": {
  "kernelspec": {
   "display_name": "Python 3 (ipykernel)",
   "language": "python",
   "name": "python3"
  },
  "language_info": {
   "codemirror_mode": {
    "name": "ipython",
    "version": 3
   },
   "file_extension": ".py",
   "mimetype": "text/x-python",
   "name": "python",
   "nbconvert_exporter": "python",
   "pygments_lexer": "ipython3",
   "version": "3.10.8"
  }
 },
 "nbformat": 4,
 "nbformat_minor": 5
}
