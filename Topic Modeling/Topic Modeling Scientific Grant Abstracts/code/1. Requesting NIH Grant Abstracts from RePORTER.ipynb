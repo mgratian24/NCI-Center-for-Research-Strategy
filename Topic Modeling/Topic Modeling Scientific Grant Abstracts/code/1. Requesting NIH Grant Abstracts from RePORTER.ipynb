{
 "cells": [
  {
   "cell_type": "markdown",
   "id": "b55da9e5-bb6e-4c72-b775-1101485398fa",
   "metadata": {},
   "source": [
    "# Topic Modeling Scientific Text\n",
    "*This template and workflow were developed by Margaret Gratian. This set of notebooks can be used to find topics in scientific text.*\n",
    "\n",
    "____________________________________\n",
    "## 1. Requesting NIH Grant Abstracts from RePORTER\n",
    "\n",
    "**Notebook Goals**\n",
    "- Demonstrate how to request NIH grant abstracts from the NIH RePORTER API.\n",
    "\n",
    "**Requirements**\n",
    "- This notebook uses a module called request_reporter to work with the RePORTER API. It is available with these notebooks in a directory called reporter. For this notebook to work, this notebook must be in the same directory that the reporter directory is in. \n",
    "- Please see the README for instructions and recommendations on proper installation in order to use this series of packages.\n",
    "\n",
    "**Inputs**\n",
    "- No inputs to this notebook.\n",
    "\n",
    "**Outputs**\n",
    "\n",
    "The following is a recommended path for saving your data. If you modify it, be sure to modify the inputs and outputs of subsequent notebooks.\n",
    "\n",
    "- Output Filepath 1: \"../data/reporter_results.csv\"\n",
    "    - The result of the RePORTER API request."
   ]
  },
  {
   "cell_type": "markdown",
   "id": "72154ad9-91fd-4f65-a891-4ce2ac564563",
   "metadata": {},
   "source": [
    "## Import Packages"
   ]
  },
  {
   "cell_type": "code",
   "execution_count": null,
   "id": "a42b9b2c-e113-48f2-8fcb-b3bcbdc056da",
   "metadata": {},
   "outputs": [],
   "source": [
    "import pandas as pd\n",
    "\n",
    "# Import the custom package for working with the RePORTER API\n",
    "from reporter import request_reporter as rr"
   ]
  },
  {
   "cell_type": "markdown",
   "id": "fddcab11-27cf-4d4d-8d88-69548d568382",
   "metadata": {},
   "source": [
    "## Dataset Development\n",
    "\n",
    "For this example, we will focus on NCI administered R01 grants in FY24."
   ]
  },
  {
   "cell_type": "code",
   "execution_count": null,
   "id": "69d58938-8445-4c77-8f12-5e96d309db38",
   "metadata": {},
   "outputs": [],
   "source": [
    "# Use the function to request_reporter module to get R01 awards for FY 2024\n",
    "# Note by default of this function, it will return NCI administered awards.\n",
    "r01_24_results_df = rr.request_nci_awards_by_year_and_activity_codes([2024], [\"R01\"])\n",
    "print(r01_24_results_df.shape)\n",
    "\n",
    "r01_24_results_df.head()"
   ]
  },
  {
   "cell_type": "code",
   "execution_count": null,
   "id": "8169aa30-df0a-4116-8aef-68748af50f59",
   "metadata": {},
   "outputs": [],
   "source": [
    "# The abstracts are available in a column called \"abstract_text\"\n",
    "# Preview this column\n",
    "r01_24_results_df[[\"abstract_text\"]].head()"
   ]
  },
  {
   "cell_type": "markdown",
   "id": "910a230f-ce40-46a9-adc0-5497ae86f02c",
   "metadata": {},
   "source": [
    "## Save Outputs"
   ]
  },
  {
   "cell_type": "code",
   "execution_count": null,
   "id": "ecdd8439-88a7-48d5-9055-d3a3343fc982",
   "metadata": {},
   "outputs": [],
   "source": [
    "r01_24_results_df.to_csv(\"../data/reporter_results.csv\")"
   ]
  }
 ],
 "metadata": {
  "kernelspec": {
   "display_name": "Python 3 (ipykernel)",
   "language": "python",
   "name": "python3"
  },
  "language_info": {
   "codemirror_mode": {
    "name": "ipython",
    "version": 3
   },
   "file_extension": ".py",
   "mimetype": "text/x-python",
   "name": "python",
   "nbconvert_exporter": "python",
   "pygments_lexer": "ipython3",
   "version": "3.10.16"
  }
 },
 "nbformat": 4,
 "nbformat_minor": 5
}
