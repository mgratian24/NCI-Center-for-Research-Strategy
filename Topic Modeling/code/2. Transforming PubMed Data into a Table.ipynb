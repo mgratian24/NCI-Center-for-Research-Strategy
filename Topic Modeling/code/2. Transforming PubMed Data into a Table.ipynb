{
 "cells": [
  {
   "cell_type": "markdown",
   "id": "b55da9e5-bb6e-4c72-b775-1101485398fa",
   "metadata": {},
   "source": [
    "# Topic Modeling Scientific Text\n",
    "\n",
    "*This template and workflow were developed by Margaret Gratian. This set of notebooks can be used to find topics in scientific text.*\n",
    "________________________________________\n",
    "## 2. Format Raw PubMed Data into Table\n",
    "\n",
    "**Notebook Goals**\n",
    "- Demonstrate how to format PubMed articles in a text file using the Medline file format into a table.\n",
    "\n",
    "**Major Caveats**\n",
    "- The data format selected to store the raw PubMed data was the Medline file format because there are libraries to parse this format (we use biopython) and consistent names used to identify the abstracts (AB), titles (TI), and other pieces of information. While it is also possible to get back other file formats, such as XML, these are more complicated to parse.\n",
    "- See here for more about parsing the Medline file format with the biopython library: https://biopython.org/docs/1.75/api/Bio.Medline.html  \n",
    "\n",
    "**Requirements**\n",
    "- This notebook requires the biopython library. Learn more about it here: https://biopython.org/\n",
    "- Please see the README for instructions and recommendations on proper installation.\n",
    "\n",
    "**Inputs**\n",
    "\n",
    "The following assumes you used the recommended path for saving your data in Notebook 1. If you modified it, be sure to modify the input path here.\n",
    "\n",
    "- Input Filepath 1: \"../data/pubmed_raw_data.txt\"\n",
    "    - Title and abstract and other article information from PubMed, in the Medline file format  \n",
    "\n",
    "\n",
    "**Outputs**\n",
    "\n",
    "The following is a recommended path for saving your data. If you modify it, be sure to modify the inputs and outputs of subsequent notebooks.\n",
    "\n",
    "- Output Filepath 1: \"../data/pubmed_text_tabular.csv\"\n",
    "    - The raw Medline file format in CSV (tabular) format  "
   ]
  },
  {
   "cell_type": "markdown",
   "id": "72154ad9-91fd-4f65-a891-4ce2ac564563",
   "metadata": {},
   "source": [
    "## Import Packages"
   ]
  },
  {
   "cell_type": "code",
   "execution_count": null,
   "id": "a42b9b2c-e113-48f2-8fcb-b3bcbdc056da",
   "metadata": {},
   "outputs": [],
   "source": [
    "import pandas as pd\n",
    "from Bio import Medline"
   ]
  },
  {
   "cell_type": "markdown",
   "id": "0f121b20-0d3f-4471-bf18-1c70adf57dfc",
   "metadata": {},
   "source": [
    "## Read in Data"
   ]
  },
  {
   "cell_type": "markdown",
   "id": "a8379c3b-16ca-44e1-ae80-58fc649a1281",
   "metadata": {},
   "source": [
    "### Read in PudMed Medline data using the biopython library to parse"
   ]
  },
  {
   "cell_type": "code",
   "execution_count": null,
   "id": "889866a7-5467-4ae8-ba6b-155c1c45a38b",
   "metadata": {},
   "outputs": [],
   "source": [
    "# Create empty list to hold extracted record information \n",
    "data = []\n",
    "\n",
    "with open(\"../data/pubmed_raw_text.txt\") as handle:\n",
    "    # Use the Medline tool from biopython to parse the dictionary \n",
    "    records = Medline.parse(handle)\n",
    "\n",
    "    # Iterate over the records (each record is a dictionary)\n",
    "    for record in records:\n",
    "        # Check that the record titles is available by checking the key TI exists in the record \n",
    "        if 'TI' not in record.keys():\n",
    "            title = None\n",
    "        else:\n",
    "            title = record['TI']\n",
    "\n",
    "        # Check that the record titles is available by checking the key AB exists in the record\n",
    "        if 'AB' not in record.keys():\n",
    "            abstract_data = None\n",
    "        else:\n",
    "            abstract_data = record['AB']\n",
    "        \n",
    "        # Fill in new dictionary with just the values we're interested in \n",
    "        data_dict = {'pmid': record['PMID'], 'title': title, 'abstract': abstract_data}\n",
    "        \n",
    "        # Add to data\n",
    "        data.append(data_dict)"
   ]
  },
  {
   "cell_type": "code",
   "execution_count": null,
   "id": "3fc28e6c-0c07-4ff5-93af-3236d26fda78",
   "metadata": {},
   "outputs": [],
   "source": [
    "# Check length of data \n",
    "# One publication did not have an abstract\n",
    "print(len(data))\n",
    "\n",
    "# Preview\n",
    "data[0]"
   ]
  },
  {
   "cell_type": "markdown",
   "id": "adcc24dd-8ced-4bb6-a56f-a1625282ba00",
   "metadata": {},
   "source": [
    "## Dataset Development"
   ]
  },
  {
   "cell_type": "markdown",
   "id": "d225af2b-0fea-435b-90dd-1f2e4e7e3a45",
   "metadata": {},
   "source": [
    "### Convert Data to Pandas DataFrame\n",
    "\n",
    "The resulting Pandas DataFrame will have the following columns:\n",
    "- pmid\n",
    "- title\n",
    "- abstract"
   ]
  },
  {
   "cell_type": "code",
   "execution_count": null,
   "id": "f2de838d-8119-4623-9eef-4b4cab6c1600",
   "metadata": {},
   "outputs": [],
   "source": [
    "# Read data into Pandas DataFrame\n",
    "pubmed_text_data = pd.DataFrame.from_records(data)\n",
    "\n",
    "# See shape\n",
    "print(pubmed_text_data.shape)\n",
    "\n",
    "# Preview\n",
    "pubmed_text_data.head()"
   ]
  },
  {
   "cell_type": "code",
   "execution_count": null,
   "id": "b351062a-a65f-45d9-925c-7f9d5b8e375c",
   "metadata": {},
   "outputs": [],
   "source": [
    "# Note we have missing titles and abstracts - we will drop empty records in subsequent notebooks\n",
    "pubmed_text_data.info()"
   ]
  },
  {
   "cell_type": "markdown",
   "id": "23b92693-233a-4495-93de-149469073b72",
   "metadata": {},
   "source": [
    "## Save Outputs"
   ]
  },
  {
   "cell_type": "code",
   "execution_count": null,
   "id": "f09eb47b-fe34-4d45-9db8-dd356bf22a1e",
   "metadata": {},
   "outputs": [],
   "source": [
    "# Save the tabular PubMed data\n",
    "pubmed_text_data.to_csv(\"../data/pubmed_text_tabular.csv\")"
   ]
  }
 ],
 "metadata": {
  "kernelspec": {
   "display_name": "Python 3 (ipykernel)",
   "language": "python",
   "name": "python3"
  },
  "language_info": {
   "codemirror_mode": {
    "name": "ipython",
    "version": 3
   },
   "file_extension": ".py",
   "mimetype": "text/x-python",
   "name": "python",
   "nbconvert_exporter": "python",
   "pygments_lexer": "ipython3",
   "version": "3.10.16"
  }
 },
 "nbformat": 4,
 "nbformat_minor": 5
}
