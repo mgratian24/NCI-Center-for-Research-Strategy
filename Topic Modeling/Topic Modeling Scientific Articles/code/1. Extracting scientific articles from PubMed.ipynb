{
 "cells": [
  {
   "cell_type": "markdown",
   "id": "b55da9e5-bb6e-4c72-b775-1101485398fa",
   "metadata": {},
   "source": [
    "# Topic Modeling Scientific Text\n",
    "*This template and workflow were developed by Margaret Gratian. This set of notebooks can be used to find topics in scientific text.*\n",
    "\n",
    "____________________________________\n",
    "## 1. Extract Articles from PubMed\n",
    "\n",
    "\n",
    "**Notebook Goals**\n",
    "- Demonstrate how to extract articles from PubMed for use in topic modeling.\n",
    "\n",
    "**Major Caveats**\n",
    "- See the requirements section for important information about the Entrez Direct command line tool.\n",
    "- The data format selected here was the Medline file format because there are libraries to parse this format and consistent names used to identify the abstracts (AB), titles (TI), and other pieces of information. It is also possible to get back other file formats, such as XML.\n",
    "\n",
    "**Requirements**\n",
    "- This notebook runs a command line script using the Entrez Direct command line tool developed by NCBI.  Learn more about it here: https://www.ncbi.nlm.nih.gov/books/NBK179288/.\n",
    "- Please see the README for instructions and recommendations on proper installation. The README will guide you in the process of setting up a virtual Python environment and installing the tool via:   \n",
    "      `sh -c \"$(curl -fsSL https://ftp.ncbi.nlm.nih.gov/entrez/entrezdirect/install-edirect.sh)\"`\n",
    "\n",
    " \n",
    "\n",
    "**Inputs**\n",
    "- No inputs to this notebook.\n",
    "\n",
    "**Outputs**\n",
    "\n",
    "The following is a recommended path for saving your data. If you modify it, be sure to modify the inputs and outputs of subsequent notebooks.\n",
    "\n",
    "- Output Filepath 1: \"../data/pubmed_raw_data.txt\"\n",
    "    - The result of a PubMed search. "
   ]
  },
  {
   "cell_type": "markdown",
   "id": "72154ad9-91fd-4f65-a891-4ce2ac564563",
   "metadata": {},
   "source": [
    "## Import Packages"
   ]
  },
  {
   "cell_type": "code",
   "execution_count": null,
   "id": "a42b9b2c-e113-48f2-8fcb-b3bcbdc056da",
   "metadata": {},
   "outputs": [],
   "source": [
    "import pandas as pd"
   ]
  },
  {
   "cell_type": "markdown",
   "id": "fddcab11-27cf-4d4d-8d88-69548d568382",
   "metadata": {},
   "source": [
    "## Dataset Development"
   ]
  },
  {
   "cell_type": "markdown",
   "id": "80f0da8d-fb41-4e1a-a2f8-0ecb8457e92e",
   "metadata": {},
   "source": [
    "### Use edirect to Get PubMed Data\n",
    "\n",
    "We will use the PubMed E-utilities to search for articles from PubMed that we will use later in the topic modeling pipeline. As an example, here we search for \"tobacco cessation.\"\n",
    "\n",
    "As another example, if you had a specific list of PMIDs you wanted to search for, you could assign those PMIDs to list called pmids_to_search and then run the following command: \n",
    "\n",
    "`! efetch -db pubmed -id $pubs_with_pmid_int -format medline > ../data/pubmed_data/pubmed_raw_data.txt`"
   ]
  },
  {
   "cell_type": "code",
   "execution_count": null,
   "id": "7b898387-d803-4866-ad85-defeb05a9ba9",
   "metadata": {},
   "outputs": [],
   "source": [
    "# The ! at the start of the search will execute this cell as a shell command\n",
    "! esearch -db pubmed -query \"tobacco cessation\" | efetch -format medline >  ../data/pubmed_raw_text.txt"
   ]
  }
 ],
 "metadata": {
  "kernelspec": {
   "display_name": "Python 3 (ipykernel)",
   "language": "python",
   "name": "python3"
  },
  "language_info": {
   "codemirror_mode": {
    "name": "ipython",
    "version": 3
   },
   "file_extension": ".py",
   "mimetype": "text/x-python",
   "name": "python",
   "nbconvert_exporter": "python",
   "pygments_lexer": "ipython3",
   "version": "3.10.16"
  }
 },
 "nbformat": 4,
 "nbformat_minor": 5
}
